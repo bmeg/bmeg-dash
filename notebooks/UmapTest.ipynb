{
 "cells": [
  {
   "cell_type": "code",
   "execution_count": 14,
   "metadata": {},
   "outputs": [],
   "source": [
    "import pandas"
   ]
  },
  {
   "cell_type": "code",
   "execution_count": 25,
   "metadata": {},
   "outputs": [],
   "source": [
    "import umap"
   ]
  },
  {
   "cell_type": "code",
   "execution_count": 3,
   "metadata": {},
   "outputs": [],
   "source": [
    "from gripql.graph import Graph\n",
    "G = Graph(url='https://bmeg.io/grip', graph='rc5', credential_file='bmeg_credentials.json')"
   ]
  },
  {
   "cell_type": "code",
   "execution_count": 22,
   "metadata": {},
   "outputs": [
    {
     "name": "stderr",
     "output_type": "stream",
     "text": [
      "[INFO]\t2020-08-11 13:14:24,611\t45 results received in 17 seconds\n"
     ]
    }
   ],
   "source": [
    "data = {}\n",
    "for row in G.query().V(\"Project:TCGA-CHOL\").out(\"cases\").out(\"samples\").out(\"aliquots\").out(\"gene_expressions\"):\n",
    "    data[row['gid']] = row['data']['values'].to_dict()"
   ]
  },
  {
   "cell_type": "code",
   "execution_count": 30,
   "metadata": {},
   "outputs": [],
   "source": [
    "df = pandas.DataFrame(data).transpose()"
   ]
  },
  {
   "cell_type": "code",
   "execution_count": 31,
   "metadata": {},
   "outputs": [],
   "source": [
    "locs = umap.UMAP().fit_transform(df)"
   ]
  },
  {
   "cell_type": "code",
   "execution_count": 73,
   "metadata": {},
   "outputs": [],
   "source": [
    "uDF = pandas.concat( [pandas.DataFrame(locs, index=df.index), df.index.to_series()], axis=1, ignore_index=True )"
   ]
  },
  {
   "cell_type": "code",
   "execution_count": 81,
   "metadata": {},
   "outputs": [
    {
     "data": {
      "application/vnd.plotly.v1+json": {
       "config": {
        "plotlyServerURL": "https://plot.ly"
       },
       "data": [
        {
         "hovertemplate": "<b>%{hovertext}</b><br><br>0=%{x}<br>1=%{y}<extra></extra>",
         "hovertext": [
          "GeneExpression:5cd9444b-4c4c-489a-b491-583da5510c80",
          "GeneExpression:bd5dc5da-bd55-45d8-a045-93d99b737f0a",
          "GeneExpression:df40ecd0-42b7-45be-9789-098cc3c85f34",
          "GeneExpression:9d7ac93a-ca45-44ed-a326-5e404e0d3b85",
          "GeneExpression:84e6718b-08c9-475d-906d-045e8f5477a0",
          "GeneExpression:d6580402-f691-479a-8b3c-582547b22b0c",
          "GeneExpression:699c7545-9b63-4b7d-9f65-fc538ac31ff3",
          "GeneExpression:b4468779-3068-40d2-809c-7b513d0a752f",
          "GeneExpression:51dfbd25-fa30-4ac5-b375-fde6ddbaa151",
          "GeneExpression:a8aea83d-802a-48b3-aea2-65e78fefc9b0",
          "GeneExpression:11aba6d6-271d-4d59-a2be-8cbd88a48d40",
          "GeneExpression:59012a78-0e8f-4b99-af97-0dbb1d3d0513",
          "GeneExpression:6fcc3918-f4b0-42ab-b00c-027175606cbd",
          "GeneExpression:0431cd43-2dd6-4319-8017-6ed8b8e77dc0",
          "GeneExpression:f5475a42-4520-4124-9ace-8c0ed9eabefb",
          "GeneExpression:d3b1d5c8-a823-4630-a160-599bc0d5fb9a",
          "GeneExpression:2649a2ec-8bb0-486e-9eec-ac9c76021b60",
          "GeneExpression:8c8d5e98-023b-4496-a237-2632c609f627",
          "GeneExpression:f7f581cf-3c93-4eaf-9f10-299006f058ce",
          "GeneExpression:be89bf4d-75f7-4596-9251-490976f7e254",
          "GeneExpression:6d6c5a87-0773-418f-ae97-52e1cec8b8b1",
          "GeneExpression:012cd145-9f6c-4b79-b929-3f42f61e3dce",
          "GeneExpression:f53d3bb4-4d10-4321-b41b-87fed60e6fc1",
          "GeneExpression:e819d2ae-9cfb-4256-a15c-23fbb3683ee7",
          "GeneExpression:f86273ce-18c0-47f3-af69-2eac38089508",
          "GeneExpression:60f80712-30c2-4026-9853-9733f641c05f",
          "GeneExpression:88336d42-a31c-448f-a077-2608786c80fe",
          "GeneExpression:cf410999-4cac-4f7b-9062-bfd807c50355",
          "GeneExpression:342a4721-d5b0-487f-a2a7-a8ef6b7a924c",
          "GeneExpression:41df36db-590f-4410-8d1d-b9afbbc9cecc",
          "GeneExpression:a59098ee-abee-46cc-af4a-cca9d501daec",
          "GeneExpression:015b2409-ca2e-4141-8266-fe619793761c",
          "GeneExpression:7bb15e31-2b7d-4926-b78a-0d2aa7bddd78",
          "GeneExpression:e67b53ac-771f-4b92-aad8-da78c97f4bcb",
          "GeneExpression:b8dabef1-a207-4c40-bf80-d61ad7dbf571",
          "GeneExpression:1d507dd2-bb72-4305-a858-68fccae00d5e",
          "GeneExpression:a6369fb0-1ca6-4215-9f2b-f4e8647e6f5a",
          "GeneExpression:355d81ff-9689-4301-bd41-3df7403b533c",
          "GeneExpression:f36ef26a-5c56-422b-bcdf-4693615d026b",
          "GeneExpression:0e8deabe-78a0-4960-8dc0-1afb483f409d",
          "GeneExpression:f322aedd-a561-4b14-b2e3-f60087b705f7",
          "GeneExpression:b0ada585-0834-406b-b02c-b06c171882ff",
          "GeneExpression:6a8ffc5d-444e-4864-bafd-ddf1ef900ef0",
          "GeneExpression:63a3bd41-6a68-4eb5-ad4f-0fd05be97ac1",
          "GeneExpression:c49a7f2a-f7ef-419d-829a-0b3a9f915aad"
         ],
         "legendgroup": "",
         "marker": {
          "color": "#636efa",
          "symbol": "circle"
         },
         "mode": "markers",
         "name": "",
         "orientation": "v",
         "showlegend": false,
         "type": "scatter",
         "x": [
          8.768388748168945,
          -16.853469848632812,
          8.047247886657715,
          -17.094589233398438,
          7.079494476318359,
          8.980720520019531,
          -16.95069694519043,
          9.299232482910156,
          10.19588565826416,
          -16.523033142089844,
          8.44371223449707,
          7.70339298248291,
          8.845854759216309,
          9.994590759277344,
          8.250662803649902,
          7.993033409118652,
          -16.738447189331055,
          8.455940246582031,
          8.46027946472168,
          9.104283332824707,
          8.88368034362793,
          9.077422142028809,
          8.113265037536621,
          -16.489627838134766,
          -17.228328704833984,
          7.429419040679932,
          8.309935569763184,
          8.821712493896484,
          9.65429973602295,
          10.450469970703125,
          -16.760601043701172,
          9.87411880493164,
          10.404439926147461,
          9.664610862731934,
          9.866352081298828,
          7.656424045562744,
          -17.02194595336914,
          7.850599765777588,
          8.810791015625,
          7.464630603790283,
          9.365713119506836,
          7.628600597381592,
          10.211329460144043,
          8.028996467590332,
          9.13713264465332
         ],
         "xaxis": "x",
         "y": [
          0.21816447377204895,
          3.286039113998413,
          0.36986175179481506,
          3.805753469467163,
          1.1804839372634888,
          0.4231313169002533,
          4.2367939949035645,
          0.9122548699378967,
          3.6028876304626465,
          3.512655019760132,
          1.0445915460586548,
          2.7147269248962402,
          2.1640944480895996,
          2.4652907848358154,
          1.5355803966522217,
          2.4701223373413086,
          3.7863729000091553,
          2.9688758850097656,
          0.536603569984436,
          1.3478962182998657,
          0.699298083782196,
          3.10998272895813,
          2.979692220687866,
          4.091357707977295,
          3.5866076946258545,
          0.6723127961158752,
          1.9849038124084473,
          1.3275465965270996,
          2.73207950592041,
          2.943397283554077,
          4.283514022827148,
          1.7484019994735718,
          3.3444371223449707,
          2.182852268218994,
          3.148322105407715,
          1.2521694898605347,
          3.6122968196868896,
          0.7329839468002319,
          2.4709739685058594,
          1.0974146127700806,
          1.7242634296417236,
          1.8149890899658203,
          3.0705504417419434,
          0.7822548151016235,
          2.7209014892578125
         ],
         "yaxis": "y"
        }
       ],
       "layout": {
        "legend": {
         "tracegroupgap": 0
        },
        "margin": {
         "t": 60
        },
        "template": {
         "data": {
          "bar": [
           {
            "error_x": {
             "color": "#2a3f5f"
            },
            "error_y": {
             "color": "#2a3f5f"
            },
            "marker": {
             "line": {
              "color": "#E5ECF6",
              "width": 0.5
             }
            },
            "type": "bar"
           }
          ],
          "barpolar": [
           {
            "marker": {
             "line": {
              "color": "#E5ECF6",
              "width": 0.5
             }
            },
            "type": "barpolar"
           }
          ],
          "carpet": [
           {
            "aaxis": {
             "endlinecolor": "#2a3f5f",
             "gridcolor": "white",
             "linecolor": "white",
             "minorgridcolor": "white",
             "startlinecolor": "#2a3f5f"
            },
            "baxis": {
             "endlinecolor": "#2a3f5f",
             "gridcolor": "white",
             "linecolor": "white",
             "minorgridcolor": "white",
             "startlinecolor": "#2a3f5f"
            },
            "type": "carpet"
           }
          ],
          "choropleth": [
           {
            "colorbar": {
             "outlinewidth": 0,
             "ticks": ""
            },
            "type": "choropleth"
           }
          ],
          "contour": [
           {
            "colorbar": {
             "outlinewidth": 0,
             "ticks": ""
            },
            "colorscale": [
             [
              0,
              "#0d0887"
             ],
             [
              0.1111111111111111,
              "#46039f"
             ],
             [
              0.2222222222222222,
              "#7201a8"
             ],
             [
              0.3333333333333333,
              "#9c179e"
             ],
             [
              0.4444444444444444,
              "#bd3786"
             ],
             [
              0.5555555555555556,
              "#d8576b"
             ],
             [
              0.6666666666666666,
              "#ed7953"
             ],
             [
              0.7777777777777778,
              "#fb9f3a"
             ],
             [
              0.8888888888888888,
              "#fdca26"
             ],
             [
              1,
              "#f0f921"
             ]
            ],
            "type": "contour"
           }
          ],
          "contourcarpet": [
           {
            "colorbar": {
             "outlinewidth": 0,
             "ticks": ""
            },
            "type": "contourcarpet"
           }
          ],
          "heatmap": [
           {
            "colorbar": {
             "outlinewidth": 0,
             "ticks": ""
            },
            "colorscale": [
             [
              0,
              "#0d0887"
             ],
             [
              0.1111111111111111,
              "#46039f"
             ],
             [
              0.2222222222222222,
              "#7201a8"
             ],
             [
              0.3333333333333333,
              "#9c179e"
             ],
             [
              0.4444444444444444,
              "#bd3786"
             ],
             [
              0.5555555555555556,
              "#d8576b"
             ],
             [
              0.6666666666666666,
              "#ed7953"
             ],
             [
              0.7777777777777778,
              "#fb9f3a"
             ],
             [
              0.8888888888888888,
              "#fdca26"
             ],
             [
              1,
              "#f0f921"
             ]
            ],
            "type": "heatmap"
           }
          ],
          "heatmapgl": [
           {
            "colorbar": {
             "outlinewidth": 0,
             "ticks": ""
            },
            "colorscale": [
             [
              0,
              "#0d0887"
             ],
             [
              0.1111111111111111,
              "#46039f"
             ],
             [
              0.2222222222222222,
              "#7201a8"
             ],
             [
              0.3333333333333333,
              "#9c179e"
             ],
             [
              0.4444444444444444,
              "#bd3786"
             ],
             [
              0.5555555555555556,
              "#d8576b"
             ],
             [
              0.6666666666666666,
              "#ed7953"
             ],
             [
              0.7777777777777778,
              "#fb9f3a"
             ],
             [
              0.8888888888888888,
              "#fdca26"
             ],
             [
              1,
              "#f0f921"
             ]
            ],
            "type": "heatmapgl"
           }
          ],
          "histogram": [
           {
            "marker": {
             "colorbar": {
              "outlinewidth": 0,
              "ticks": ""
             }
            },
            "type": "histogram"
           }
          ],
          "histogram2d": [
           {
            "colorbar": {
             "outlinewidth": 0,
             "ticks": ""
            },
            "colorscale": [
             [
              0,
              "#0d0887"
             ],
             [
              0.1111111111111111,
              "#46039f"
             ],
             [
              0.2222222222222222,
              "#7201a8"
             ],
             [
              0.3333333333333333,
              "#9c179e"
             ],
             [
              0.4444444444444444,
              "#bd3786"
             ],
             [
              0.5555555555555556,
              "#d8576b"
             ],
             [
              0.6666666666666666,
              "#ed7953"
             ],
             [
              0.7777777777777778,
              "#fb9f3a"
             ],
             [
              0.8888888888888888,
              "#fdca26"
             ],
             [
              1,
              "#f0f921"
             ]
            ],
            "type": "histogram2d"
           }
          ],
          "histogram2dcontour": [
           {
            "colorbar": {
             "outlinewidth": 0,
             "ticks": ""
            },
            "colorscale": [
             [
              0,
              "#0d0887"
             ],
             [
              0.1111111111111111,
              "#46039f"
             ],
             [
              0.2222222222222222,
              "#7201a8"
             ],
             [
              0.3333333333333333,
              "#9c179e"
             ],
             [
              0.4444444444444444,
              "#bd3786"
             ],
             [
              0.5555555555555556,
              "#d8576b"
             ],
             [
              0.6666666666666666,
              "#ed7953"
             ],
             [
              0.7777777777777778,
              "#fb9f3a"
             ],
             [
              0.8888888888888888,
              "#fdca26"
             ],
             [
              1,
              "#f0f921"
             ]
            ],
            "type": "histogram2dcontour"
           }
          ],
          "mesh3d": [
           {
            "colorbar": {
             "outlinewidth": 0,
             "ticks": ""
            },
            "type": "mesh3d"
           }
          ],
          "parcoords": [
           {
            "line": {
             "colorbar": {
              "outlinewidth": 0,
              "ticks": ""
             }
            },
            "type": "parcoords"
           }
          ],
          "pie": [
           {
            "automargin": true,
            "type": "pie"
           }
          ],
          "scatter": [
           {
            "marker": {
             "colorbar": {
              "outlinewidth": 0,
              "ticks": ""
             }
            },
            "type": "scatter"
           }
          ],
          "scatter3d": [
           {
            "line": {
             "colorbar": {
              "outlinewidth": 0,
              "ticks": ""
             }
            },
            "marker": {
             "colorbar": {
              "outlinewidth": 0,
              "ticks": ""
             }
            },
            "type": "scatter3d"
           }
          ],
          "scattercarpet": [
           {
            "marker": {
             "colorbar": {
              "outlinewidth": 0,
              "ticks": ""
             }
            },
            "type": "scattercarpet"
           }
          ],
          "scattergeo": [
           {
            "marker": {
             "colorbar": {
              "outlinewidth": 0,
              "ticks": ""
             }
            },
            "type": "scattergeo"
           }
          ],
          "scattergl": [
           {
            "marker": {
             "colorbar": {
              "outlinewidth": 0,
              "ticks": ""
             }
            },
            "type": "scattergl"
           }
          ],
          "scattermapbox": [
           {
            "marker": {
             "colorbar": {
              "outlinewidth": 0,
              "ticks": ""
             }
            },
            "type": "scattermapbox"
           }
          ],
          "scatterpolar": [
           {
            "marker": {
             "colorbar": {
              "outlinewidth": 0,
              "ticks": ""
             }
            },
            "type": "scatterpolar"
           }
          ],
          "scatterpolargl": [
           {
            "marker": {
             "colorbar": {
              "outlinewidth": 0,
              "ticks": ""
             }
            },
            "type": "scatterpolargl"
           }
          ],
          "scatterternary": [
           {
            "marker": {
             "colorbar": {
              "outlinewidth": 0,
              "ticks": ""
             }
            },
            "type": "scatterternary"
           }
          ],
          "surface": [
           {
            "colorbar": {
             "outlinewidth": 0,
             "ticks": ""
            },
            "colorscale": [
             [
              0,
              "#0d0887"
             ],
             [
              0.1111111111111111,
              "#46039f"
             ],
             [
              0.2222222222222222,
              "#7201a8"
             ],
             [
              0.3333333333333333,
              "#9c179e"
             ],
             [
              0.4444444444444444,
              "#bd3786"
             ],
             [
              0.5555555555555556,
              "#d8576b"
             ],
             [
              0.6666666666666666,
              "#ed7953"
             ],
             [
              0.7777777777777778,
              "#fb9f3a"
             ],
             [
              0.8888888888888888,
              "#fdca26"
             ],
             [
              1,
              "#f0f921"
             ]
            ],
            "type": "surface"
           }
          ],
          "table": [
           {
            "cells": {
             "fill": {
              "color": "#EBF0F8"
             },
             "line": {
              "color": "white"
             }
            },
            "header": {
             "fill": {
              "color": "#C8D4E3"
             },
             "line": {
              "color": "white"
             }
            },
            "type": "table"
           }
          ]
         },
         "layout": {
          "annotationdefaults": {
           "arrowcolor": "#2a3f5f",
           "arrowhead": 0,
           "arrowwidth": 1
          },
          "coloraxis": {
           "colorbar": {
            "outlinewidth": 0,
            "ticks": ""
           }
          },
          "colorscale": {
           "diverging": [
            [
             0,
             "#8e0152"
            ],
            [
             0.1,
             "#c51b7d"
            ],
            [
             0.2,
             "#de77ae"
            ],
            [
             0.3,
             "#f1b6da"
            ],
            [
             0.4,
             "#fde0ef"
            ],
            [
             0.5,
             "#f7f7f7"
            ],
            [
             0.6,
             "#e6f5d0"
            ],
            [
             0.7,
             "#b8e186"
            ],
            [
             0.8,
             "#7fbc41"
            ],
            [
             0.9,
             "#4d9221"
            ],
            [
             1,
             "#276419"
            ]
           ],
           "sequential": [
            [
             0,
             "#0d0887"
            ],
            [
             0.1111111111111111,
             "#46039f"
            ],
            [
             0.2222222222222222,
             "#7201a8"
            ],
            [
             0.3333333333333333,
             "#9c179e"
            ],
            [
             0.4444444444444444,
             "#bd3786"
            ],
            [
             0.5555555555555556,
             "#d8576b"
            ],
            [
             0.6666666666666666,
             "#ed7953"
            ],
            [
             0.7777777777777778,
             "#fb9f3a"
            ],
            [
             0.8888888888888888,
             "#fdca26"
            ],
            [
             1,
             "#f0f921"
            ]
           ],
           "sequentialminus": [
            [
             0,
             "#0d0887"
            ],
            [
             0.1111111111111111,
             "#46039f"
            ],
            [
             0.2222222222222222,
             "#7201a8"
            ],
            [
             0.3333333333333333,
             "#9c179e"
            ],
            [
             0.4444444444444444,
             "#bd3786"
            ],
            [
             0.5555555555555556,
             "#d8576b"
            ],
            [
             0.6666666666666666,
             "#ed7953"
            ],
            [
             0.7777777777777778,
             "#fb9f3a"
            ],
            [
             0.8888888888888888,
             "#fdca26"
            ],
            [
             1,
             "#f0f921"
            ]
           ]
          },
          "colorway": [
           "#636efa",
           "#EF553B",
           "#00cc96",
           "#ab63fa",
           "#FFA15A",
           "#19d3f3",
           "#FF6692",
           "#B6E880",
           "#FF97FF",
           "#FECB52"
          ],
          "font": {
           "color": "#2a3f5f"
          },
          "geo": {
           "bgcolor": "white",
           "lakecolor": "white",
           "landcolor": "#E5ECF6",
           "showlakes": true,
           "showland": true,
           "subunitcolor": "white"
          },
          "hoverlabel": {
           "align": "left"
          },
          "hovermode": "closest",
          "mapbox": {
           "style": "light"
          },
          "paper_bgcolor": "white",
          "plot_bgcolor": "#E5ECF6",
          "polar": {
           "angularaxis": {
            "gridcolor": "white",
            "linecolor": "white",
            "ticks": ""
           },
           "bgcolor": "#E5ECF6",
           "radialaxis": {
            "gridcolor": "white",
            "linecolor": "white",
            "ticks": ""
           }
          },
          "scene": {
           "xaxis": {
            "backgroundcolor": "#E5ECF6",
            "gridcolor": "white",
            "gridwidth": 2,
            "linecolor": "white",
            "showbackground": true,
            "ticks": "",
            "zerolinecolor": "white"
           },
           "yaxis": {
            "backgroundcolor": "#E5ECF6",
            "gridcolor": "white",
            "gridwidth": 2,
            "linecolor": "white",
            "showbackground": true,
            "ticks": "",
            "zerolinecolor": "white"
           },
           "zaxis": {
            "backgroundcolor": "#E5ECF6",
            "gridcolor": "white",
            "gridwidth": 2,
            "linecolor": "white",
            "showbackground": true,
            "ticks": "",
            "zerolinecolor": "white"
           }
          },
          "shapedefaults": {
           "line": {
            "color": "#2a3f5f"
           }
          },
          "ternary": {
           "aaxis": {
            "gridcolor": "white",
            "linecolor": "white",
            "ticks": ""
           },
           "baxis": {
            "gridcolor": "white",
            "linecolor": "white",
            "ticks": ""
           },
           "bgcolor": "#E5ECF6",
           "caxis": {
            "gridcolor": "white",
            "linecolor": "white",
            "ticks": ""
           }
          },
          "title": {
           "x": 0.05
          },
          "xaxis": {
           "automargin": true,
           "gridcolor": "white",
           "linecolor": "white",
           "ticks": "",
           "title": {
            "standoff": 15
           },
           "zerolinecolor": "white",
           "zerolinewidth": 2
          },
          "yaxis": {
           "automargin": true,
           "gridcolor": "white",
           "linecolor": "white",
           "ticks": "",
           "title": {
            "standoff": 15
           },
           "zerolinecolor": "white",
           "zerolinewidth": 2
          }
         }
        },
        "xaxis": {
         "anchor": "y",
         "domain": [
          0,
          1
         ],
         "title": {
          "text": "0"
         }
        },
        "yaxis": {
         "anchor": "x",
         "domain": [
          0,
          1
         ],
         "title": {
          "text": "1"
         }
        }
       }
      },
      "text/html": [
       "<div>\n",
       "        \n",
       "        \n",
       "            <div id=\"c8fa9014-a7d9-4ac0-b279-d784dad84688\" class=\"plotly-graph-div\" style=\"height:525px; width:100%;\"></div>\n",
       "            <script type=\"text/javascript\">\n",
       "                require([\"plotly\"], function(Plotly) {\n",
       "                    window.PLOTLYENV=window.PLOTLYENV || {};\n",
       "                    \n",
       "                if (document.getElementById(\"c8fa9014-a7d9-4ac0-b279-d784dad84688\")) {\n",
       "                    Plotly.newPlot(\n",
       "                        'c8fa9014-a7d9-4ac0-b279-d784dad84688',\n",
       "                        [{\"hovertemplate\": \"<b>%{hovertext}</b><br><br>0=%{x}<br>1=%{y}<extra></extra>\", \"hovertext\": [\"GeneExpression:5cd9444b-4c4c-489a-b491-583da5510c80\", \"GeneExpression:bd5dc5da-bd55-45d8-a045-93d99b737f0a\", \"GeneExpression:df40ecd0-42b7-45be-9789-098cc3c85f34\", \"GeneExpression:9d7ac93a-ca45-44ed-a326-5e404e0d3b85\", \"GeneExpression:84e6718b-08c9-475d-906d-045e8f5477a0\", \"GeneExpression:d6580402-f691-479a-8b3c-582547b22b0c\", \"GeneExpression:699c7545-9b63-4b7d-9f65-fc538ac31ff3\", \"GeneExpression:b4468779-3068-40d2-809c-7b513d0a752f\", \"GeneExpression:51dfbd25-fa30-4ac5-b375-fde6ddbaa151\", \"GeneExpression:a8aea83d-802a-48b3-aea2-65e78fefc9b0\", \"GeneExpression:11aba6d6-271d-4d59-a2be-8cbd88a48d40\", \"GeneExpression:59012a78-0e8f-4b99-af97-0dbb1d3d0513\", \"GeneExpression:6fcc3918-f4b0-42ab-b00c-027175606cbd\", \"GeneExpression:0431cd43-2dd6-4319-8017-6ed8b8e77dc0\", \"GeneExpression:f5475a42-4520-4124-9ace-8c0ed9eabefb\", \"GeneExpression:d3b1d5c8-a823-4630-a160-599bc0d5fb9a\", \"GeneExpression:2649a2ec-8bb0-486e-9eec-ac9c76021b60\", \"GeneExpression:8c8d5e98-023b-4496-a237-2632c609f627\", \"GeneExpression:f7f581cf-3c93-4eaf-9f10-299006f058ce\", \"GeneExpression:be89bf4d-75f7-4596-9251-490976f7e254\", \"GeneExpression:6d6c5a87-0773-418f-ae97-52e1cec8b8b1\", \"GeneExpression:012cd145-9f6c-4b79-b929-3f42f61e3dce\", \"GeneExpression:f53d3bb4-4d10-4321-b41b-87fed60e6fc1\", \"GeneExpression:e819d2ae-9cfb-4256-a15c-23fbb3683ee7\", \"GeneExpression:f86273ce-18c0-47f3-af69-2eac38089508\", \"GeneExpression:60f80712-30c2-4026-9853-9733f641c05f\", \"GeneExpression:88336d42-a31c-448f-a077-2608786c80fe\", \"GeneExpression:cf410999-4cac-4f7b-9062-bfd807c50355\", \"GeneExpression:342a4721-d5b0-487f-a2a7-a8ef6b7a924c\", \"GeneExpression:41df36db-590f-4410-8d1d-b9afbbc9cecc\", \"GeneExpression:a59098ee-abee-46cc-af4a-cca9d501daec\", \"GeneExpression:015b2409-ca2e-4141-8266-fe619793761c\", \"GeneExpression:7bb15e31-2b7d-4926-b78a-0d2aa7bddd78\", \"GeneExpression:e67b53ac-771f-4b92-aad8-da78c97f4bcb\", \"GeneExpression:b8dabef1-a207-4c40-bf80-d61ad7dbf571\", \"GeneExpression:1d507dd2-bb72-4305-a858-68fccae00d5e\", \"GeneExpression:a6369fb0-1ca6-4215-9f2b-f4e8647e6f5a\", \"GeneExpression:355d81ff-9689-4301-bd41-3df7403b533c\", \"GeneExpression:f36ef26a-5c56-422b-bcdf-4693615d026b\", \"GeneExpression:0e8deabe-78a0-4960-8dc0-1afb483f409d\", \"GeneExpression:f322aedd-a561-4b14-b2e3-f60087b705f7\", \"GeneExpression:b0ada585-0834-406b-b02c-b06c171882ff\", \"GeneExpression:6a8ffc5d-444e-4864-bafd-ddf1ef900ef0\", \"GeneExpression:63a3bd41-6a68-4eb5-ad4f-0fd05be97ac1\", \"GeneExpression:c49a7f2a-f7ef-419d-829a-0b3a9f915aad\"], \"legendgroup\": \"\", \"marker\": {\"color\": \"#636efa\", \"symbol\": \"circle\"}, \"mode\": \"markers\", \"name\": \"\", \"orientation\": \"v\", \"showlegend\": false, \"type\": \"scatter\", \"x\": [8.768388748168945, -16.853469848632812, 8.047247886657715, -17.094589233398438, 7.079494476318359, 8.980720520019531, -16.95069694519043, 9.299232482910156, 10.19588565826416, -16.523033142089844, 8.44371223449707, 7.70339298248291, 8.845854759216309, 9.994590759277344, 8.250662803649902, 7.993033409118652, -16.738447189331055, 8.455940246582031, 8.46027946472168, 9.104283332824707, 8.88368034362793, 9.077422142028809, 8.113265037536621, -16.489627838134766, -17.228328704833984, 7.429419040679932, 8.309935569763184, 8.821712493896484, 9.65429973602295, 10.450469970703125, -16.760601043701172, 9.87411880493164, 10.404439926147461, 9.664610862731934, 9.866352081298828, 7.656424045562744, -17.02194595336914, 7.850599765777588, 8.810791015625, 7.464630603790283, 9.365713119506836, 7.628600597381592, 10.211329460144043, 8.028996467590332, 9.13713264465332], \"xaxis\": \"x\", \"y\": [0.21816447377204895, 3.286039113998413, 0.36986175179481506, 3.805753469467163, 1.1804839372634888, 0.4231313169002533, 4.2367939949035645, 0.9122548699378967, 3.6028876304626465, 3.512655019760132, 1.0445915460586548, 2.7147269248962402, 2.1640944480895996, 2.4652907848358154, 1.5355803966522217, 2.4701223373413086, 3.7863729000091553, 2.9688758850097656, 0.536603569984436, 1.3478962182998657, 0.699298083782196, 3.10998272895813, 2.979692220687866, 4.091357707977295, 3.5866076946258545, 0.6723127961158752, 1.9849038124084473, 1.3275465965270996, 2.73207950592041, 2.943397283554077, 4.283514022827148, 1.7484019994735718, 3.3444371223449707, 2.182852268218994, 3.148322105407715, 1.2521694898605347, 3.6122968196868896, 0.7329839468002319, 2.4709739685058594, 1.0974146127700806, 1.7242634296417236, 1.8149890899658203, 3.0705504417419434, 0.7822548151016235, 2.7209014892578125], \"yaxis\": \"y\"}],\n",
       "                        {\"legend\": {\"tracegroupgap\": 0}, \"margin\": {\"t\": 60}, \"template\": {\"data\": {\"bar\": [{\"error_x\": {\"color\": \"#2a3f5f\"}, \"error_y\": {\"color\": \"#2a3f5f\"}, \"marker\": {\"line\": {\"color\": \"#E5ECF6\", \"width\": 0.5}}, \"type\": \"bar\"}], \"barpolar\": [{\"marker\": {\"line\": {\"color\": \"#E5ECF6\", \"width\": 0.5}}, \"type\": \"barpolar\"}], \"carpet\": [{\"aaxis\": {\"endlinecolor\": \"#2a3f5f\", \"gridcolor\": \"white\", \"linecolor\": \"white\", \"minorgridcolor\": \"white\", \"startlinecolor\": \"#2a3f5f\"}, \"baxis\": {\"endlinecolor\": \"#2a3f5f\", \"gridcolor\": \"white\", \"linecolor\": \"white\", \"minorgridcolor\": \"white\", \"startlinecolor\": \"#2a3f5f\"}, \"type\": \"carpet\"}], \"choropleth\": [{\"colorbar\": {\"outlinewidth\": 0, \"ticks\": \"\"}, \"type\": \"choropleth\"}], \"contour\": [{\"colorbar\": {\"outlinewidth\": 0, \"ticks\": \"\"}, \"colorscale\": [[0.0, \"#0d0887\"], [0.1111111111111111, \"#46039f\"], [0.2222222222222222, \"#7201a8\"], [0.3333333333333333, \"#9c179e\"], [0.4444444444444444, \"#bd3786\"], [0.5555555555555556, \"#d8576b\"], [0.6666666666666666, \"#ed7953\"], [0.7777777777777778, \"#fb9f3a\"], [0.8888888888888888, \"#fdca26\"], [1.0, \"#f0f921\"]], \"type\": \"contour\"}], \"contourcarpet\": [{\"colorbar\": {\"outlinewidth\": 0, \"ticks\": \"\"}, \"type\": \"contourcarpet\"}], \"heatmap\": [{\"colorbar\": {\"outlinewidth\": 0, \"ticks\": \"\"}, \"colorscale\": [[0.0, \"#0d0887\"], [0.1111111111111111, \"#46039f\"], [0.2222222222222222, \"#7201a8\"], [0.3333333333333333, \"#9c179e\"], [0.4444444444444444, \"#bd3786\"], [0.5555555555555556, \"#d8576b\"], [0.6666666666666666, \"#ed7953\"], [0.7777777777777778, \"#fb9f3a\"], [0.8888888888888888, \"#fdca26\"], [1.0, \"#f0f921\"]], \"type\": \"heatmap\"}], \"heatmapgl\": [{\"colorbar\": {\"outlinewidth\": 0, \"ticks\": \"\"}, \"colorscale\": [[0.0, \"#0d0887\"], [0.1111111111111111, \"#46039f\"], [0.2222222222222222, \"#7201a8\"], [0.3333333333333333, \"#9c179e\"], [0.4444444444444444, \"#bd3786\"], [0.5555555555555556, \"#d8576b\"], [0.6666666666666666, \"#ed7953\"], [0.7777777777777778, \"#fb9f3a\"], [0.8888888888888888, \"#fdca26\"], [1.0, \"#f0f921\"]], \"type\": \"heatmapgl\"}], \"histogram\": [{\"marker\": {\"colorbar\": {\"outlinewidth\": 0, \"ticks\": \"\"}}, \"type\": \"histogram\"}], \"histogram2d\": [{\"colorbar\": {\"outlinewidth\": 0, \"ticks\": \"\"}, \"colorscale\": [[0.0, \"#0d0887\"], [0.1111111111111111, \"#46039f\"], [0.2222222222222222, \"#7201a8\"], [0.3333333333333333, \"#9c179e\"], [0.4444444444444444, \"#bd3786\"], [0.5555555555555556, \"#d8576b\"], [0.6666666666666666, \"#ed7953\"], [0.7777777777777778, \"#fb9f3a\"], [0.8888888888888888, \"#fdca26\"], [1.0, \"#f0f921\"]], \"type\": \"histogram2d\"}], \"histogram2dcontour\": [{\"colorbar\": {\"outlinewidth\": 0, \"ticks\": \"\"}, \"colorscale\": [[0.0, \"#0d0887\"], [0.1111111111111111, \"#46039f\"], [0.2222222222222222, \"#7201a8\"], [0.3333333333333333, \"#9c179e\"], [0.4444444444444444, \"#bd3786\"], [0.5555555555555556, \"#d8576b\"], [0.6666666666666666, \"#ed7953\"], [0.7777777777777778, \"#fb9f3a\"], [0.8888888888888888, \"#fdca26\"], [1.0, \"#f0f921\"]], \"type\": \"histogram2dcontour\"}], \"mesh3d\": [{\"colorbar\": {\"outlinewidth\": 0, \"ticks\": \"\"}, \"type\": \"mesh3d\"}], \"parcoords\": [{\"line\": {\"colorbar\": {\"outlinewidth\": 0, \"ticks\": \"\"}}, \"type\": \"parcoords\"}], \"pie\": [{\"automargin\": true, \"type\": \"pie\"}], \"scatter\": [{\"marker\": {\"colorbar\": {\"outlinewidth\": 0, \"ticks\": \"\"}}, \"type\": \"scatter\"}], \"scatter3d\": [{\"line\": {\"colorbar\": {\"outlinewidth\": 0, \"ticks\": \"\"}}, \"marker\": {\"colorbar\": {\"outlinewidth\": 0, \"ticks\": \"\"}}, \"type\": \"scatter3d\"}], \"scattercarpet\": [{\"marker\": {\"colorbar\": {\"outlinewidth\": 0, \"ticks\": \"\"}}, \"type\": \"scattercarpet\"}], \"scattergeo\": [{\"marker\": {\"colorbar\": {\"outlinewidth\": 0, \"ticks\": \"\"}}, \"type\": \"scattergeo\"}], \"scattergl\": [{\"marker\": {\"colorbar\": {\"outlinewidth\": 0, \"ticks\": \"\"}}, \"type\": \"scattergl\"}], \"scattermapbox\": [{\"marker\": {\"colorbar\": {\"outlinewidth\": 0, \"ticks\": \"\"}}, \"type\": \"scattermapbox\"}], \"scatterpolar\": [{\"marker\": {\"colorbar\": {\"outlinewidth\": 0, \"ticks\": \"\"}}, \"type\": \"scatterpolar\"}], \"scatterpolargl\": [{\"marker\": {\"colorbar\": {\"outlinewidth\": 0, \"ticks\": \"\"}}, \"type\": \"scatterpolargl\"}], \"scatterternary\": [{\"marker\": {\"colorbar\": {\"outlinewidth\": 0, \"ticks\": \"\"}}, \"type\": \"scatterternary\"}], \"surface\": [{\"colorbar\": {\"outlinewidth\": 0, \"ticks\": \"\"}, \"colorscale\": [[0.0, \"#0d0887\"], [0.1111111111111111, \"#46039f\"], [0.2222222222222222, \"#7201a8\"], [0.3333333333333333, \"#9c179e\"], [0.4444444444444444, \"#bd3786\"], [0.5555555555555556, \"#d8576b\"], [0.6666666666666666, \"#ed7953\"], [0.7777777777777778, \"#fb9f3a\"], [0.8888888888888888, \"#fdca26\"], [1.0, \"#f0f921\"]], \"type\": \"surface\"}], \"table\": [{\"cells\": {\"fill\": {\"color\": \"#EBF0F8\"}, \"line\": {\"color\": \"white\"}}, \"header\": {\"fill\": {\"color\": \"#C8D4E3\"}, \"line\": {\"color\": \"white\"}}, \"type\": \"table\"}]}, \"layout\": {\"annotationdefaults\": {\"arrowcolor\": \"#2a3f5f\", \"arrowhead\": 0, \"arrowwidth\": 1}, \"coloraxis\": {\"colorbar\": {\"outlinewidth\": 0, \"ticks\": \"\"}}, \"colorscale\": {\"diverging\": [[0, \"#8e0152\"], [0.1, \"#c51b7d\"], [0.2, \"#de77ae\"], [0.3, \"#f1b6da\"], [0.4, \"#fde0ef\"], [0.5, \"#f7f7f7\"], [0.6, \"#e6f5d0\"], [0.7, \"#b8e186\"], [0.8, \"#7fbc41\"], [0.9, \"#4d9221\"], [1, \"#276419\"]], \"sequential\": [[0.0, \"#0d0887\"], [0.1111111111111111, \"#46039f\"], [0.2222222222222222, \"#7201a8\"], [0.3333333333333333, \"#9c179e\"], [0.4444444444444444, \"#bd3786\"], [0.5555555555555556, \"#d8576b\"], [0.6666666666666666, \"#ed7953\"], [0.7777777777777778, \"#fb9f3a\"], [0.8888888888888888, \"#fdca26\"], [1.0, \"#f0f921\"]], \"sequentialminus\": [[0.0, \"#0d0887\"], [0.1111111111111111, \"#46039f\"], [0.2222222222222222, \"#7201a8\"], [0.3333333333333333, \"#9c179e\"], [0.4444444444444444, \"#bd3786\"], [0.5555555555555556, \"#d8576b\"], [0.6666666666666666, \"#ed7953\"], [0.7777777777777778, \"#fb9f3a\"], [0.8888888888888888, \"#fdca26\"], [1.0, \"#f0f921\"]]}, \"colorway\": [\"#636efa\", \"#EF553B\", \"#00cc96\", \"#ab63fa\", \"#FFA15A\", \"#19d3f3\", \"#FF6692\", \"#B6E880\", \"#FF97FF\", \"#FECB52\"], \"font\": {\"color\": \"#2a3f5f\"}, \"geo\": {\"bgcolor\": \"white\", \"lakecolor\": \"white\", \"landcolor\": \"#E5ECF6\", \"showlakes\": true, \"showland\": true, \"subunitcolor\": \"white\"}, \"hoverlabel\": {\"align\": \"left\"}, \"hovermode\": \"closest\", \"mapbox\": {\"style\": \"light\"}, \"paper_bgcolor\": \"white\", \"plot_bgcolor\": \"#E5ECF6\", \"polar\": {\"angularaxis\": {\"gridcolor\": \"white\", \"linecolor\": \"white\", \"ticks\": \"\"}, \"bgcolor\": \"#E5ECF6\", \"radialaxis\": {\"gridcolor\": \"white\", \"linecolor\": \"white\", \"ticks\": \"\"}}, \"scene\": {\"xaxis\": {\"backgroundcolor\": \"#E5ECF6\", \"gridcolor\": \"white\", \"gridwidth\": 2, \"linecolor\": \"white\", \"showbackground\": true, \"ticks\": \"\", \"zerolinecolor\": \"white\"}, \"yaxis\": {\"backgroundcolor\": \"#E5ECF6\", \"gridcolor\": \"white\", \"gridwidth\": 2, \"linecolor\": \"white\", \"showbackground\": true, \"ticks\": \"\", \"zerolinecolor\": \"white\"}, \"zaxis\": {\"backgroundcolor\": \"#E5ECF6\", \"gridcolor\": \"white\", \"gridwidth\": 2, \"linecolor\": \"white\", \"showbackground\": true, \"ticks\": \"\", \"zerolinecolor\": \"white\"}}, \"shapedefaults\": {\"line\": {\"color\": \"#2a3f5f\"}}, \"ternary\": {\"aaxis\": {\"gridcolor\": \"white\", \"linecolor\": \"white\", \"ticks\": \"\"}, \"baxis\": {\"gridcolor\": \"white\", \"linecolor\": \"white\", \"ticks\": \"\"}, \"bgcolor\": \"#E5ECF6\", \"caxis\": {\"gridcolor\": \"white\", \"linecolor\": \"white\", \"ticks\": \"\"}}, \"title\": {\"x\": 0.05}, \"xaxis\": {\"automargin\": true, \"gridcolor\": \"white\", \"linecolor\": \"white\", \"ticks\": \"\", \"title\": {\"standoff\": 15}, \"zerolinecolor\": \"white\", \"zerolinewidth\": 2}, \"yaxis\": {\"automargin\": true, \"gridcolor\": \"white\", \"linecolor\": \"white\", \"ticks\": \"\", \"title\": {\"standoff\": 15}, \"zerolinecolor\": \"white\", \"zerolinewidth\": 2}}}, \"xaxis\": {\"anchor\": \"y\", \"domain\": [0.0, 1.0], \"title\": {\"text\": \"0\"}}, \"yaxis\": {\"anchor\": \"x\", \"domain\": [0.0, 1.0], \"title\": {\"text\": \"1\"}}},\n",
       "                        {\"responsive\": true}\n",
       "                    ).then(function(){\n",
       "                            \n",
       "var gd = document.getElementById('c8fa9014-a7d9-4ac0-b279-d784dad84688');\n",
       "var x = new MutationObserver(function (mutations, observer) {{\n",
       "        var display = window.getComputedStyle(gd).display;\n",
       "        if (!display || display === 'none') {{\n",
       "            console.log([gd, 'removed!']);\n",
       "            Plotly.purge(gd);\n",
       "            observer.disconnect();\n",
       "        }}\n",
       "}});\n",
       "\n",
       "// Listen for the removal of the full notebook cells\n",
       "var notebookContainer = gd.closest('#notebook-container');\n",
       "if (notebookContainer) {{\n",
       "    x.observe(notebookContainer, {childList: true});\n",
       "}}\n",
       "\n",
       "// Listen for the clearing of the current output cell\n",
       "var outputEl = gd.closest('.output');\n",
       "if (outputEl) {{\n",
       "    x.observe(outputEl, {childList: true});\n",
       "}}\n",
       "\n",
       "                        })\n",
       "                };\n",
       "                });\n",
       "            </script>\n",
       "        </div>"
      ]
     },
     "metadata": {},
     "output_type": "display_data"
    }
   ],
   "source": [
    "import plotly.express as px\n",
    "fig = px.scatter(uDF, x=0, y=1, hover_name=2)\n",
    "fig.show()"
   ]
  },
  {
   "cell_type": "code",
   "execution_count": 44,
   "metadata": {},
   "outputs": [
    {
     "data": {
      "text/plain": [
       "array([0.21816447, 3.286039  , 0.36986175, 3.8057535 , 1.1804839 ,\n",
       "       0.42313132, 4.236794  , 0.91225487, 3.6028876 , 3.512655  ,\n",
       "       1.0445915 , 2.714727  , 2.1640944 , 2.4652908 , 1.5355804 ,\n",
       "       2.4701223 , 3.786373  , 2.968876  , 0.53660357, 1.3478962 ,\n",
       "       0.6992981 , 3.1099827 , 2.9796922 , 4.0913577 , 3.5866077 ,\n",
       "       0.6723128 , 1.9849038 , 1.3275466 , 2.7320795 , 2.9433973 ,\n",
       "       4.283514  , 1.748402  , 3.3444371 , 2.1828523 , 3.148322  ,\n",
       "       1.2521695 , 3.6122968 , 0.73298395, 2.470974  , 1.0974146 ,\n",
       "       1.7242634 , 1.8149891 , 3.0705504 , 0.7822548 , 2.7209015 ],\n",
       "      dtype=float32)"
      ]
     },
     "execution_count": 44,
     "metadata": {},
     "output_type": "execute_result"
    }
   ],
   "source": [
    "locs[:,1]"
   ]
  },
  {
   "cell_type": "code",
   "execution_count": null,
   "metadata": {},
   "outputs": [],
   "source": []
  }
 ],
 "metadata": {
  "kernelspec": {
   "display_name": "Python 3",
   "language": "python",
   "name": "python3"
  },
  "language_info": {
   "codemirror_mode": {
    "name": "ipython",
    "version": 3
   },
   "file_extension": ".py",
   "mimetype": "text/x-python",
   "name": "python",
   "nbconvert_exporter": "python",
   "pygments_lexer": "ipython3",
   "version": "3.8.2"
  }
 },
 "nbformat": 4,
 "nbformat_minor": 4
}
